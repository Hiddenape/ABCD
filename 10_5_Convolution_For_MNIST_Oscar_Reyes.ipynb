{
  "nbformat": 4,
  "nbformat_minor": 0,
  "metadata": {
    "colab": {
      "provenance": []
    },
    "kernelspec": {
      "name": "python3",
      "display_name": "Python 3"
    },
    "language_info": {
      "name": "python"
    }
  },
  "cells": [
    {
      "cell_type": "markdown",
      "metadata": {
        "id": "view-in-github"
      },
      "source": [
        "<a href=\"https://colab.research.google.com/github/udlbook/udlbook/blob/main/Notebooks/Chap10/10_5_Convolution_For_MNIST.ipynb\" target=\"_parent\"><img src=\"https://colab.research.google.com/assets/colab-badge.svg\" alt=\"Open In Colab\"/></a>"
      ]
    },
    {
      "cell_type": "markdown",
      "source": [
        "# **Notebook 10.5: Convolution for MNIST**\n",
        "\n",
        "This notebook builds a proper network for 2D convolution.  It works with the MNIST dataset (figure 15.15a), which was the original classic dataset for classifying images.  The network will take a 28x28 grayscale image and classify it into one of 10 classes representing a digit.\n",
        "\n",
        "The code is adapted from https://nextjournal.com/gkoehler/pytorch-mnist\n",
        "\n",
        "Work through the cells below, running each cell in turn. In various places you will see the words \"TO DO\". Follow the instructions at these places and make predictions about what is going to happen or write code to complete the functions.\n",
        "\n",
        "Contact me at udlbookmail@gmail.com if you find any mistakes or have any suggestions.\n"
      ],
      "metadata": {
        "id": "t9vk9Elugvmi"
      }
    },
    {
      "cell_type": "code",
      "source": [
        "import torch\n",
        "import torchvision\n",
        "import torch.nn as nn\n",
        "import torch.nn.functional as F\n",
        "import torch.optim as optim\n",
        "import matplotlib.pyplot as plt\n",
        "import random"
      ],
      "metadata": {
        "id": "YrXWAH7sUWvU"
      },
      "execution_count": 1,
      "outputs": []
    },
    {
      "cell_type": "code",
      "source": [
        "# Run this once to load the train and test data straight into a dataloader class\n",
        "# that will provide the batches\n",
        "batch_size_train = 64\n",
        "batch_size_test = 1000\n",
        "train_loader = torch.utils.data.DataLoader(\n",
        "  torchvision.datasets.MNIST('/files/', train=True, download=True,\n",
        "                             transform=torchvision.transforms.Compose([\n",
        "                               torchvision.transforms.ToTensor(),\n",
        "                               torchvision.transforms.Normalize(\n",
        "                                 (0.1307,), (0.3081,))\n",
        "                             ])),\n",
        "  batch_size=batch_size_train, shuffle=True)\n",
        "\n",
        "test_loader = torch.utils.data.DataLoader(\n",
        "  torchvision.datasets.MNIST('/files/', train=False, download=True,\n",
        "                             transform=torchvision.transforms.Compose([\n",
        "                               torchvision.transforms.ToTensor(),\n",
        "                               torchvision.transforms.Normalize(\n",
        "                                 (0.1307,), (0.3081,))\n",
        "                             ])),\n",
        "  batch_size=batch_size_test, shuffle=True)"
      ],
      "metadata": {
        "id": "wScBGXXFVadm",
        "colab": {
          "base_uri": "https://localhost:8080/"
        },
        "outputId": "1bd1d754-9fa6-4b90-becb-c07094d5ac28"
      },
      "execution_count": 2,
      "outputs": [
        {
          "output_type": "stream",
          "name": "stdout",
          "text": [
            "Downloading http://yann.lecun.com/exdb/mnist/train-images-idx3-ubyte.gz\n",
            "Failed to download (trying next):\n",
            "HTTP Error 403: Forbidden\n",
            "\n",
            "Downloading https://ossci-datasets.s3.amazonaws.com/mnist/train-images-idx3-ubyte.gz\n",
            "Downloading https://ossci-datasets.s3.amazonaws.com/mnist/train-images-idx3-ubyte.gz to /files/MNIST/raw/train-images-idx3-ubyte.gz\n"
          ]
        },
        {
          "output_type": "stream",
          "name": "stderr",
          "text": [
            "100%|██████████| 9912422/9912422 [00:00<00:00, 28690633.14it/s]\n"
          ]
        },
        {
          "output_type": "stream",
          "name": "stdout",
          "text": [
            "Extracting /files/MNIST/raw/train-images-idx3-ubyte.gz to /files/MNIST/raw\n",
            "\n",
            "Downloading http://yann.lecun.com/exdb/mnist/train-labels-idx1-ubyte.gz\n",
            "Failed to download (trying next):\n",
            "HTTP Error 403: Forbidden\n",
            "\n",
            "Downloading https://ossci-datasets.s3.amazonaws.com/mnist/train-labels-idx1-ubyte.gz\n",
            "Downloading https://ossci-datasets.s3.amazonaws.com/mnist/train-labels-idx1-ubyte.gz to /files/MNIST/raw/train-labels-idx1-ubyte.gz\n"
          ]
        },
        {
          "output_type": "stream",
          "name": "stderr",
          "text": [
            "100%|██████████| 28881/28881 [00:00<00:00, 1400817.51it/s]"
          ]
        },
        {
          "output_type": "stream",
          "name": "stdout",
          "text": [
            "Extracting /files/MNIST/raw/train-labels-idx1-ubyte.gz to /files/MNIST/raw\n",
            "\n",
            "Downloading http://yann.lecun.com/exdb/mnist/t10k-images-idx3-ubyte.gz\n"
          ]
        },
        {
          "output_type": "stream",
          "name": "stderr",
          "text": [
            "\n"
          ]
        },
        {
          "output_type": "stream",
          "name": "stdout",
          "text": [
            "Failed to download (trying next):\n",
            "HTTP Error 403: Forbidden\n",
            "\n",
            "Downloading https://ossci-datasets.s3.amazonaws.com/mnist/t10k-images-idx3-ubyte.gz\n",
            "Downloading https://ossci-datasets.s3.amazonaws.com/mnist/t10k-images-idx3-ubyte.gz to /files/MNIST/raw/t10k-images-idx3-ubyte.gz\n"
          ]
        },
        {
          "output_type": "stream",
          "name": "stderr",
          "text": [
            "100%|██████████| 1648877/1648877 [00:00<00:00, 9650897.98it/s]\n"
          ]
        },
        {
          "output_type": "stream",
          "name": "stdout",
          "text": [
            "Extracting /files/MNIST/raw/t10k-images-idx3-ubyte.gz to /files/MNIST/raw\n",
            "\n",
            "Downloading http://yann.lecun.com/exdb/mnist/t10k-labels-idx1-ubyte.gz\n",
            "Failed to download (trying next):\n",
            "HTTP Error 403: Forbidden\n",
            "\n",
            "Downloading https://ossci-datasets.s3.amazonaws.com/mnist/t10k-labels-idx1-ubyte.gz\n",
            "Downloading https://ossci-datasets.s3.amazonaws.com/mnist/t10k-labels-idx1-ubyte.gz to /files/MNIST/raw/t10k-labels-idx1-ubyte.gz\n"
          ]
        },
        {
          "output_type": "stream",
          "name": "stderr",
          "text": [
            "100%|██████████| 4542/4542 [00:00<00:00, 7329945.66it/s]"
          ]
        },
        {
          "output_type": "stream",
          "name": "stdout",
          "text": [
            "Extracting /files/MNIST/raw/t10k-labels-idx1-ubyte.gz to /files/MNIST/raw\n",
            "\n"
          ]
        },
        {
          "output_type": "stream",
          "name": "stderr",
          "text": [
            "\n"
          ]
        }
      ]
    },
    {
      "cell_type": "code",
      "source": [
        "# Let's draw some of the training data\n",
        "examples = enumerate(test_loader)\n",
        "batch_idx, (example_data, example_targets) = next(examples)\n",
        "\n",
        "fig = plt.figure()\n",
        "for i in range(6):\n",
        "  plt.subplot(2,3,i+1)\n",
        "  plt.tight_layout()\n",
        "  plt.imshow(example_data[i][0], cmap='gray', interpolation='none')\n",
        "  plt.title(\"Ground Truth: {}\".format(example_targets[i]))\n",
        "  plt.xticks([])\n",
        "  plt.yticks([])\n",
        "plt.show()"
      ],
      "metadata": {
        "id": "8bKADvLHbiV5",
        "colab": {
          "base_uri": "https://localhost:8080/",
          "height": 438
        },
        "outputId": "22e00f64-417c-4e17-a685-1d0692791ec6"
      },
      "execution_count": 3,
      "outputs": [
        {
          "output_type": "display_data",
          "data": {
            "text/plain": [
              "<Figure size 640x480 with 6 Axes>"
            ],
            "image/png": "[encoded data removed]"
          },
          "metadata": {}
        }
      ]
    },
    {
      "cell_type": "markdown",
      "source": [
        "Define the network.  This is a more typical way to define a network than the sequential structure.  We define a class for the network, and define the parameters in the constructor.  Then we use a function called forward to actually run the network.  It's easy to see how you might use residual connections in this format."
      ],
      "metadata": {
        "id": "_sFvRDGrl4qe"
      }
    },
    {
      "cell_type": "code",
      "source": [
        "from os import X_OK\n",
        "# TODO Change this class to implement\n",
        "# 1. A valid convolution with kernel size 5, 1 input channel and 10 output channels\n",
        "# 2. A max pooling operation over a 2x2 area\n",
        "# 3. A Relu\n",
        "# 4. A valid convolution with kernel size 5, 10 input channels and 20 output channels\n",
        "# 5. A 2D Dropout layer\n",
        "# 6. A max pooling operation over a 2x2 area\n",
        "# 7. A relu\n",
        "# 8. A flattening operation\n",
        "# 9. A fully connected layer mapping from (whatever dimensions we are at-- find out using .shape) to 50\n",
        "# 10. A ReLU\n",
        "# 11. A fully connected layer mapping from 50 to 10 dimensions\n",
        "# 12. A softmax function.\n",
        "\n",
        "# Replace this class which implements a minimal network (which still does okay)\n",
        "class Net(nn.Module):\n",
        "    def __init__(self):\n",
        "        super(Net, self).__init__()\n",
        "\n",
        "        # ANSWERS\n",
        "        # 1. Convolutional layer: kernel size 5, 1 input channel, 10 output channels\n",
        "        self.conv1 = nn.Conv2d(1, 10, kernel_size=5)\n",
        "        # 2. Max pooling over 2x2 area\n",
        "        self.pool1 = nn.MaxPool2d(kernel_size=2, stride=2)\n",
        "        # 3. ReLU activation\n",
        "        # No need to define a separate layer for ReLU, we will apply it directly in forward pass\n",
        "\n",
        "        # 4. Convolutional layer: kernel size 5, 10 input channels, 20 output channels\n",
        "        self.conv2 = nn.Conv2d(10, 20, kernel_size=5)\n",
        "        # 5. Dropout layer with 2D dropout (recommended after convolutional layers)\n",
        "        self.dropout = nn.Dropout2d()\n",
        "        # 6. Max pooling over 2x2 area\n",
        "        self.pool2 = nn.MaxPool2d(kernel_size=2, stride=2)\n",
        "        # 7. ReLU activation\n",
        "        # Again, apply directly in forward pass\n",
        "\n",
        "        # 8. Flattening operation will be done in forward pass\n",
        "\n",
        "        # 9. Fully connected layer: mapping to 50 dimensions\n",
        "        self.fc1 = nn.Linear(320, 50)\n",
        "        # 10. ReLU activation\n",
        "        # Apply directly in forward pass\n",
        "\n",
        "        # 11. Fully connected layer: mapping from 50 to 10 dimensions\n",
        "        self.fc2 = nn.Linear(50, 10)\n",
        "        # 12. Softmax function (included in CrossEntropyLoss typically, not in the forward pass)\n",
        "\n",
        "    def forward(self, x):\n",
        "\n",
        "        # ANSWERS\n",
        "\n",
        "        # First convolutional layer, followed by pooling and ReLU\n",
        "        x = self.pool1(F.relu(self.conv1(x)))\n",
        "        # Second convolutional layer, followed by dropout, pooling and ReLU\n",
        "        x = self.pool2(F.relu(self.dropout(self.conv2(x))))\n",
        "        # Flatten the tensor for fully connected layers\n",
        "        x = x.view(-1, 320)  # Calculate the size after flattening\n",
        "        # First fully connected layer with ReLU\n",
        "        x = F.relu(self.fc1(x))\n",
        "        # Second fully connected layer with log softmax (for NLL loss)\n",
        "        x = F.log_softmax(self.fc2(x), dim=1)\n",
        "\n",
        "        return x"
      ],
      "metadata": {
        "id": "EQkvw2KOPVl7"
      },
      "execution_count": 21,
      "outputs": []
    },
    {
      "cell_type": "code",
      "source": [
        "# He initialization of weights\n",
        "def weights_init(layer_in):\n",
        "  if isinstance(layer_in, nn.Linear):\n",
        "    nn.init.kaiming_uniform_(layer_in.weight)\n",
        "    layer_in.bias.data.fill_(0.0)"
      ],
      "metadata": {
        "id": "qWZtkCZcU_dg"
      },
      "execution_count": 22,
      "outputs": []
    },
    {
      "cell_type": "code",
      "source": [
        "# Create network\n",
        "model = Net()\n",
        "# Initialize model weights\n",
        "model.apply(weights_init)\n",
        "# Define optimizer\n",
        "optimizer = optim.SGD(model.parameters(), lr=0.01, momentum=0.5)"
      ],
      "metadata": {
        "id": "FslroPJJffrh"
      },
      "execution_count": 23,
      "outputs": []
    },
    {
      "cell_type": "code",
      "source": [
        "# Main training routine\n",
        "def train(epoch):\n",
        "  model.train()\n",
        "  # Get each\n",
        "  for batch_idx, (data, target) in enumerate(train_loader):\n",
        "    optimizer.zero_grad()\n",
        "    output = model(data)\n",
        "    loss = F.nll_loss(output, target)\n",
        "    loss.backward()\n",
        "    optimizer.step()\n",
        "    # Store results\n",
        "    if batch_idx % 10 == 0:\n",
        "      print('Train Epoch: {} [{}/{}]\\tLoss: {:.6f}'.format(\n",
        "        epoch, batch_idx * len(data), len(train_loader.dataset), loss.item()))"
      ],
      "metadata": {
        "id": "xKQd9PzkQ766"
      },
      "execution_count": 24,
      "outputs": []
    },
    {
      "cell_type": "code",
      "source": [
        "# Run on test data\n",
        "def test():\n",
        "  model.eval()\n",
        "  test_loss = 0\n",
        "  correct = 0\n",
        "  with torch.no_grad():\n",
        "    for data, target in test_loader:\n",
        "      output = model(data)\n",
        "      test_loss += F.nll_loss(output, target, size_average=False).item()\n",
        "      pred = output.data.max(1, keepdim=True)[1]\n",
        "      correct += pred.eq(target.data.view_as(pred)).sum()\n",
        "  test_loss /= len(test_loader.dataset)\n",
        "  print('\\nTest set: Avg. loss: {:.4f}, Accuracy: {}/{} ({:.0f}%)\\n'.format(\n",
        "    test_loss, correct, len(test_loader.dataset),\n",
        "    100. * correct / len(test_loader.dataset)))"
      ],
      "metadata": {
        "id": "Byn-f7qWRLxX"
      },
      "execution_count": 25,
      "outputs": []
    },
    {
      "cell_type": "code",
      "source": [
        "# Get initial performance\n",
        "test()\n",
        "# Train for three epochs\n",
        "n_epochs = 3\n",
        "for epoch in range(1, n_epochs + 1):\n",
        "  train(epoch)\n",
        "  test()"
      ],
      "metadata": {
        "id": "YgLaex1pfhqz",
        "colab": {
          "base_uri": "https://localhost:8080/"
        },
        "outputId": "3d217195-8580-4942-e018-46743c5f9169"
      },
      "execution_count": 26,
      "outputs": [
        {
          "output_type": "stream",
          "name": "stderr",
          "text": [
            "/usr/local/lib/python3.10/dist-packages/torch/nn/_reduction.py:42: UserWarning: size_average and reduce args will be deprecated, please use reduction='sum' instead.\n",
            "  warnings.warn(warning.format(ret))\n"
          ]
        },
        {
          "output_type": "stream",
          "name": "stdout",
          "text": [
            "\n",
            "Test set: Avg. loss: 2.3741, Accuracy: 1075/10000 (11%)\n",
            "\n",
            "Train Epoch: 1 [0/60000]\tLoss: 2.513313\n",
            "Train Epoch: 1 [640/60000]\tLoss: 2.162968\n",
            "Train Epoch: 1 [1280/60000]\tLoss: 2.051325\n",
            "Train Epoch: 1 [1920/60000]\tLoss: 1.851587\n",
            "Train Epoch: 1 [2560/60000]\tLoss: 1.706333\n",
            "Train Epoch: 1 [3200/60000]\tLoss: 1.634211\n",
            "Train Epoch: 1 [3840/60000]\tLoss: 1.421247\n",
            "Train Epoch: 1 [4480/60000]\tLoss: 1.203362\n",
            "Train Epoch: 1 [5120/60000]\tLoss: 1.219383\n",
            "Train Epoch: 1 [5760/60000]\tLoss: 1.181794\n",
            "Train Epoch: 1 [6400/60000]\tLoss: 0.702849\n",
            "Train Epoch: 1 [7040/60000]\tLoss: 0.688431\n",
            "Train Epoch: 1 [7680/60000]\tLoss: 0.882614\n",
            "Train Epoch: 1 [8320/60000]\tLoss: 0.820621\n",
            "Train Epoch: 1 [8960/60000]\tLoss: 0.503202\n",
            "Train Epoch: 1 [9600/60000]\tLoss: 0.492741\n",
            "Train Epoch: 1 [10240/60000]\tLoss: 0.575622\n",
            "Train Epoch: 1 [10880/60000]\tLoss: 0.729228\n",
            "Train Epoch: 1 [11520/60000]\tLoss: 0.654817\n",
            "Train Epoch: 1 [12160/60000]\tLoss: 0.644942\n",
            "Train Epoch: 1 [12800/60000]\tLoss: 0.604759\n",
            "Train Epoch: 1 [13440/60000]\tLoss: 0.488561\n",
            "Train Epoch: 1 [14080/60000]\tLoss: 0.494914\n",
            "Train Epoch: 1 [14720/60000]\tLoss: 0.512664\n",
            "Train Epoch: 1 [15360/60000]\tLoss: 0.406439\n",
            "Train Epoch: 1 [16000/60000]\tLoss: 0.565820\n",
            "Train Epoch: 1 [16640/60000]\tLoss: 0.488707\n",
            "Train Epoch: 1 [17280/60000]\tLoss: 0.532869\n",
            "Train Epoch: 1 [17920/60000]\tLoss: 0.321990\n",
            "Train Epoch: 1 [18560/60000]\tLoss: 0.357617\n",
            "Train Epoch: 1 [19200/60000]\tLoss: 0.624765\n",
            "Train Epoch: 1 [19840/60000]\tLoss: 0.512642\n",
            "Train Epoch: 1 [20480/60000]\tLoss: 0.390421\n",
            "Train Epoch: 1 [21120/60000]\tLoss: 0.591886\n",
            "Train Epoch: 1 [21760/60000]\tLoss: 0.249981\n",
            "Train Epoch: 1 [22400/60000]\tLoss: 0.431117\n",
            "Train Epoch: 1 [23040/60000]\tLoss: 0.271326\n",
            "Train Epoch: 1 [23680/60000]\tLoss: 0.501496\n",
            "Train Epoch: 1 [24320/60000]\tLoss: 0.319481\n",
            "Train Epoch: 1 [24960/60000]\tLoss: 0.357632\n",
            "Train Epoch: 1 [25600/60000]\tLoss: 0.292039\n",
            "Train Epoch: 1 [26240/60000]\tLoss: 0.383943\n",
            "Train Epoch: 1 [26880/60000]\tLoss: 0.514585\n",
            "Train Epoch: 1 [27520/60000]\tLoss: 0.381266\n",
            "Train Epoch: 1 [28160/60000]\tLoss: 0.468556\n",
            "Train Epoch: 1 [28800/60000]\tLoss: 0.484940\n",
            "Train Epoch: 1 [29440/60000]\tLoss: 0.391812\n",
            "Train Epoch: 1 [30080/60000]\tLoss: 0.397626\n",
            "Train Epoch: 1 [30720/60000]\tLoss: 0.325752\n",
            "Train Epoch: 1 [31360/60000]\tLoss: 0.436401\n",
            "Train Epoch: 1 [32000/60000]\tLoss: 0.315791\n",
            "Train Epoch: 1 [32640/60000]\tLoss: 0.239005\n",
            "Train Epoch: 1 [33280/60000]\tLoss: 0.191558\n",
            "Train Epoch: 1 [33920/60000]\tLoss: 0.363024\n",
            "Train Epoch: 1 [34560/60000]\tLoss: 0.377170\n",
            "Train Epoch: 1 [35200/60000]\tLoss: 0.237708\n",
            "Train Epoch: 1 [35840/60000]\tLoss: 0.401772\n",
            "Train Epoch: 1 [36480/60000]\tLoss: 0.220097\n",
            "Train Epoch: 1 [37120/60000]\tLoss: 0.281564\n",
            "Train Epoch: 1 [37760/60000]\tLoss: 0.209503\n",
            "Train Epoch: 1 [38400/60000]\tLoss: 0.561420\n",
            "Train Epoch: 1 [39040/60000]\tLoss: 0.226884\n",
            "Train Epoch: 1 [39680/60000]\tLoss: 0.178152\n",
            "Train Epoch: 1 [40320/60000]\tLoss: 0.168218\n",
            "Train Epoch: 1 [40960/60000]\tLoss: 0.615460\n",
            "Train Epoch: 1 [41600/60000]\tLoss: 0.275088\n",
            "Train Epoch: 1 [42240/60000]\tLoss: 0.209256\n",
            "Train Epoch: 1 [42880/60000]\tLoss: 0.363455\n",
            "Train Epoch: 1 [43520/60000]\tLoss: 0.302600\n",
            "Train Epoch: 1 [44160/60000]\tLoss: 0.145848\n",
            "Train Epoch: 1 [44800/60000]\tLoss: 0.194214\n",
            "Train Epoch: 1 [45440/60000]\tLoss: 0.155744\n",
            "Train Epoch: 1 [46080/60000]\tLoss: 0.215562\n",
            "Train Epoch: 1 [46720/60000]\tLoss: 0.306421\n",
            "Train Epoch: 1 [47360/60000]\tLoss: 0.150178\n",
            "Train Epoch: 1 [48000/60000]\tLoss: 0.202309\n",
            "Train Epoch: 1 [48640/60000]\tLoss: 0.355111\n",
            "Train Epoch: 1 [49280/60000]\tLoss: 0.279217\n",
            "Train Epoch: 1 [49920/60000]\tLoss: 0.136310\n",
            "Train Epoch: 1 [50560/60000]\tLoss: 0.256200\n",
            "Train Epoch: 1 [51200/60000]\tLoss: 0.280887\n",
            "Train Epoch: 1 [51840/60000]\tLoss: 0.111678\n",
            "Train Epoch: 1 [52480/60000]\tLoss: 0.145720\n",
            "Train Epoch: 1 [53120/60000]\tLoss: 0.912770\n",
            "Train Epoch: 1 [53760/60000]\tLoss: 0.135495\n",
            "Train Epoch: 1 [54400/60000]\tLoss: 0.246308\n",
            "Train Epoch: 1 [55040/60000]\tLoss: 0.279892\n",
            "Train Epoch: 1 [55680/60000]\tLoss: 0.157242\n",
            "Train Epoch: 1 [56320/60000]\tLoss: 0.208885\n",
            "Train Epoch: 1 [56960/60000]\tLoss: 0.221797\n",
            "Train Epoch: 1 [57600/60000]\tLoss: 0.259359\n",
            "Train Epoch: 1 [58240/60000]\tLoss: 0.306547\n",
            "Train Epoch: 1 [58880/60000]\tLoss: 0.334218\n",
            "Train Epoch: 1 [59520/60000]\tLoss: 0.216485\n",
            "\n",
            "Test set: Avg. loss: 0.1319, Accuracy: 9575/10000 (96%)\n",
            "\n",
            "Train Epoch: 2 [0/60000]\tLoss: 0.194678\n",
            "Train Epoch: 2 [640/60000]\tLoss: 0.126986\n",
            "Train Epoch: 2 [1280/60000]\tLoss: 0.387076\n",
            "Train Epoch: 2 [1920/60000]\tLoss: 0.201795\n",
            "Train Epoch: 2 [2560/60000]\tLoss: 0.162208\n",
            "Train Epoch: 2 [3200/60000]\tLoss: 0.132433\n",
            "Train Epoch: 2 [3840/60000]\tLoss: 0.201690\n",
            "Train Epoch: 2 [4480/60000]\tLoss: 0.264522\n",
            "Train Epoch: 2 [5120/60000]\tLoss: 0.167192\n",
            "Train Epoch: 2 [5760/60000]\tLoss: 0.263163\n",
            "Train Epoch: 2 [6400/60000]\tLoss: 0.525109\n",
            "Train Epoch: 2 [7040/60000]\tLoss: 0.099475\n",
            "Train Epoch: 2 [7680/60000]\tLoss: 0.282979\n",
            "Train Epoch: 2 [8320/60000]\tLoss: 0.313754\n",
            "Train Epoch: 2 [8960/60000]\tLoss: 0.309260\n",
            "Train Epoch: 2 [9600/60000]\tLoss: 0.333295\n",
            "Train Epoch: 2 [10240/60000]\tLoss: 0.080948\n",
            "Train Epoch: 2 [10880/60000]\tLoss: 0.162838\n",
            "Train Epoch: 2 [11520/60000]\tLoss: 0.265599\n",
            "Train Epoch: 2 [12160/60000]\tLoss: 0.108396\n",
            "Train Epoch: 2 [12800/60000]\tLoss: 0.129310\n",
            "Train Epoch: 2 [13440/60000]\tLoss: 0.202441\n",
            "Train Epoch: 2 [14080/60000]\tLoss: 0.249686\n",
            "Train Epoch: 2 [14720/60000]\tLoss: 0.199247\n",
            "Train Epoch: 2 [15360/60000]\tLoss: 0.306828\n",
            "Train Epoch: 2 [16000/60000]\tLoss: 0.094287\n",
            "Train Epoch: 2 [16640/60000]\tLoss: 0.246904\n",
            "Train Epoch: 2 [17280/60000]\tLoss: 0.267736\n",
            "Train Epoch: 2 [17920/60000]\tLoss: 0.167627\n",
            "Train Epoch: 2 [18560/60000]\tLoss: 0.246260\n",
            "Train Epoch: 2 [19200/60000]\tLoss: 0.237628\n",
            "Train Epoch: 2 [19840/60000]\tLoss: 0.245451\n",
            "Train Epoch: 2 [20480/60000]\tLoss: 0.122753\n",
            "Train Epoch: 2 [21120/60000]\tLoss: 0.158482\n",
            "Train Epoch: 2 [21760/60000]\tLoss: 0.309591\n",
            "Train Epoch: 2 [22400/60000]\tLoss: 0.223763\n",
            "Train Epoch: 2 [23040/60000]\tLoss: 0.087314\n",
            "Train Epoch: 2 [23680/60000]\tLoss: 0.076930\n",
            "Train Epoch: 2 [24320/60000]\tLoss: 0.374816\n",
            "Train Epoch: 2 [24960/60000]\tLoss: 0.074605\n",
            "Train Epoch: 2 [25600/60000]\tLoss: 0.105839\n",
            "Train Epoch: 2 [26240/60000]\tLoss: 0.214159\n",
            "Train Epoch: 2 [26880/60000]\tLoss: 0.114873\n",
            "Train Epoch: 2 [27520/60000]\tLoss: 0.193727\n",
            "Train Epoch: 2 [28160/60000]\tLoss: 0.238827\n",
            "Train Epoch: 2 [28800/60000]\tLoss: 0.127652\n",
            "Train Epoch: 2 [29440/60000]\tLoss: 0.099864\n",
            "Train Epoch: 2 [30080/60000]\tLoss: 0.177751\n",
            "Train Epoch: 2 [30720/60000]\tLoss: 0.113091\n",
            "Train Epoch: 2 [31360/60000]\tLoss: 0.132269\n",
            "Train Epoch: 2 [32000/60000]\tLoss: 0.116537\n",
            "Train Epoch: 2 [32640/60000]\tLoss: 0.197299\n",
            "Train Epoch: 2 [33280/60000]\tLoss: 0.111873\n",
            "Train Epoch: 2 [33920/60000]\tLoss: 0.133261\n",
            "Train Epoch: 2 [34560/60000]\tLoss: 0.246114\n",
            "Train Epoch: 2 [35200/60000]\tLoss: 0.082149\n",
            "Train Epoch: 2 [35840/60000]\tLoss: 0.102943\n",
            "Train Epoch: 2 [36480/60000]\tLoss: 0.228250\n",
            "Train Epoch: 2 [37120/60000]\tLoss: 0.199832\n",
            "Train Epoch: 2 [37760/60000]\tLoss: 0.189568\n",
            "Train Epoch: 2 [38400/60000]\tLoss: 0.175254\n",
            "Train Epoch: 2 [39040/60000]\tLoss: 0.114176\n",
            "Train Epoch: 2 [39680/60000]\tLoss: 0.207196\n",
            "Train Epoch: 2 [40320/60000]\tLoss: 0.492698\n",
            "Train Epoch: 2 [40960/60000]\tLoss: 0.125581\n",
            "Train Epoch: 2 [41600/60000]\tLoss: 0.089667\n",
            "Train Epoch: 2 [42240/60000]\tLoss: 0.092633\n",
            "Train Epoch: 2 [42880/60000]\tLoss: 0.160103\n",
            "Train Epoch: 2 [43520/60000]\tLoss: 0.191096\n",
            "Train Epoch: 2 [44160/60000]\tLoss: 0.078160\n",
            "Train Epoch: 2 [44800/60000]\tLoss: 0.116881\n",
            "Train Epoch: 2 [45440/60000]\tLoss: 0.135916\n",
            "Train Epoch: 2 [46080/60000]\tLoss: 0.267674\n",
            "Train Epoch: 2 [46720/60000]\tLoss: 0.145358\n",
            "Train Epoch: 2 [47360/60000]\tLoss: 0.129742\n",
            "Train Epoch: 2 [48000/60000]\tLoss: 0.239171\n",
            "Train Epoch: 2 [48640/60000]\tLoss: 0.186958\n",
            "Train Epoch: 2 [49280/60000]\tLoss: 0.319211\n",
            "Train Epoch: 2 [49920/60000]\tLoss: 0.088967\n",
            "Train Epoch: 2 [50560/60000]\tLoss: 0.139196\n",
            "Train Epoch: 2 [51200/60000]\tLoss: 0.180839\n",
            "Train Epoch: 2 [51840/60000]\tLoss: 0.198998\n",
            "Train Epoch: 2 [52480/60000]\tLoss: 0.146432\n",
            "Train Epoch: 2 [53120/60000]\tLoss: 0.179825\n",
            "Train Epoch: 2 [53760/60000]\tLoss: 0.253014\n",
            "Train Epoch: 2 [54400/60000]\tLoss: 0.135551\n",
            "Train Epoch: 2 [55040/60000]\tLoss: 0.156595\n",
            "Train Epoch: 2 [55680/60000]\tLoss: 0.199833\n",
            "Train Epoch: 2 [56320/60000]\tLoss: 0.174814\n",
            "Train Epoch: 2 [56960/60000]\tLoss: 0.099830\n",
            "Train Epoch: 2 [57600/60000]\tLoss: 0.151346\n",
            "Train Epoch: 2 [58240/60000]\tLoss: 0.138957\n",
            "Train Epoch: 2 [58880/60000]\tLoss: 0.168453\n",
            "Train Epoch: 2 [59520/60000]\tLoss: 0.126917\n",
            "\n",
            "Test set: Avg. loss: 0.0835, Accuracy: 9739/10000 (97%)\n",
            "\n",
            "Train Epoch: 3 [0/60000]\tLoss: 0.284371\n",
            "Train Epoch: 3 [640/60000]\tLoss: 0.167719\n",
            "Train Epoch: 3 [1280/60000]\tLoss: 0.102756\n",
            "Train Epoch: 3 [1920/60000]\tLoss: 0.103351\n",
            "Train Epoch: 3 [2560/60000]\tLoss: 0.105112\n",
            "Train Epoch: 3 [3200/60000]\tLoss: 0.107265\n",
            "Train Epoch: 3 [3840/60000]\tLoss: 0.311745\n",
            "Train Epoch: 3 [4480/60000]\tLoss: 0.046204\n",
            "Train Epoch: 3 [5120/60000]\tLoss: 0.118871\n",
            "Train Epoch: 3 [5760/60000]\tLoss: 0.089024\n",
            "Train Epoch: 3 [6400/60000]\tLoss: 0.061841\n",
            "Train Epoch: 3 [7040/60000]\tLoss: 0.027287\n",
            "Train Epoch: 3 [7680/60000]\tLoss: 0.245216\n",
            "Train Epoch: 3 [8320/60000]\tLoss: 0.125177\n",
            "Train Epoch: 3 [8960/60000]\tLoss: 0.083628\n",
            "Train Epoch: 3 [9600/60000]\tLoss: 0.086981\n",
            "Train Epoch: 3 [10240/60000]\tLoss: 0.158779\n",
            "Train Epoch: 3 [10880/60000]\tLoss: 0.128010\n",
            "Train Epoch: 3 [11520/60000]\tLoss: 0.176051\n",
            "Train Epoch: 3 [12160/60000]\tLoss: 0.046678\n",
            "Train Epoch: 3 [12800/60000]\tLoss: 0.185139\n",
            "Train Epoch: 3 [13440/60000]\tLoss: 0.036687\n",
            "Train Epoch: 3 [14080/60000]\tLoss: 0.115510\n",
            "Train Epoch: 3 [14720/60000]\tLoss: 0.080473\n",
            "Train Epoch: 3 [15360/60000]\tLoss: 0.070928\n",
            "Train Epoch: 3 [16000/60000]\tLoss: 0.058534\n",
            "Train Epoch: 3 [16640/60000]\tLoss: 0.194687\n",
            "Train Epoch: 3 [17280/60000]\tLoss: 0.048227\n",
            "Train Epoch: 3 [17920/60000]\tLoss: 0.087161\n",
            "Train Epoch: 3 [18560/60000]\tLoss: 0.063304\n",
            "Train Epoch: 3 [19200/60000]\tLoss: 0.158612\n",
            "Train Epoch: 3 [19840/60000]\tLoss: 0.080773\n",
            "Train Epoch: 3 [20480/60000]\tLoss: 0.196372\n",
            "Train Epoch: 3 [21120/60000]\tLoss: 0.537288\n",
            "Train Epoch: 3 [21760/60000]\tLoss: 0.420191\n",
            "Train Epoch: 3 [22400/60000]\tLoss: 0.181523\n",
            "Train Epoch: 3 [23040/60000]\tLoss: 0.206338\n",
            "Train Epoch: 3 [23680/60000]\tLoss: 0.020366\n",
            "Train Epoch: 3 [24320/60000]\tLoss: 0.297225\n",
            "Train Epoch: 3 [24960/60000]\tLoss: 0.232108\n",
            "Train Epoch: 3 [25600/60000]\tLoss: 0.195659\n",
            "Train Epoch: 3 [26240/60000]\tLoss: 0.153382\n",
            "Train Epoch: 3 [26880/60000]\tLoss: 0.113837\n",
            "Train Epoch: 3 [27520/60000]\tLoss: 0.034753\n",
            "Train Epoch: 3 [28160/60000]\tLoss: 0.097392\n",
            "Train Epoch: 3 [28800/60000]\tLoss: 0.217780\n",
            "Train Epoch: 3 [29440/60000]\tLoss: 0.103851\n",
            "Train Epoch: 3 [30080/60000]\tLoss: 0.076350\n",
            "Train Epoch: 3 [30720/60000]\tLoss: 0.141367\n",
            "Train Epoch: 3 [31360/60000]\tLoss: 0.018835\n",
            "Train Epoch: 3 [32000/60000]\tLoss: 0.151758\n",
            "Train Epoch: 3 [32640/60000]\tLoss: 0.194349\n",
            "Train Epoch: 3 [33280/60000]\tLoss: 0.135331\n",
            "Train Epoch: 3 [33920/60000]\tLoss: 0.034615\n",
            "Train Epoch: 3 [34560/60000]\tLoss: 0.206082\n",
            "Train Epoch: 3 [35200/60000]\tLoss: 0.085839\n",
            "Train Epoch: 3 [35840/60000]\tLoss: 0.147616\n",
            "Train Epoch: 3 [36480/60000]\tLoss: 0.105513\n",
            "Train Epoch: 3 [37120/60000]\tLoss: 0.132134\n",
            "Train Epoch: 3 [37760/60000]\tLoss: 0.159859\n",
            "Train Epoch: 3 [38400/60000]\tLoss: 0.169849\n",
            "Train Epoch: 3 [39040/60000]\tLoss: 0.071586\n",
            "Train Epoch: 3 [39680/60000]\tLoss: 0.167662\n",
            "Train Epoch: 3 [40320/60000]\tLoss: 0.219128\n",
            "Train Epoch: 3 [40960/60000]\tLoss: 0.263086\n",
            "Train Epoch: 3 [41600/60000]\tLoss: 0.148218\n",
            "Train Epoch: 3 [42240/60000]\tLoss: 0.323513\n",
            "Train Epoch: 3 [42880/60000]\tLoss: 0.105752\n",
            "Train Epoch: 3 [43520/60000]\tLoss: 0.281094\n",
            "Train Epoch: 3 [44160/60000]\tLoss: 0.096432\n",
            "Train Epoch: 3 [44800/60000]\tLoss: 0.142930\n",
            "Train Epoch: 3 [45440/60000]\tLoss: 0.096168\n",
            "Train Epoch: 3 [46080/60000]\tLoss: 0.069343\n",
            "Train Epoch: 3 [46720/60000]\tLoss: 0.110468\n",
            "Train Epoch: 3 [47360/60000]\tLoss: 0.350483\n",
            "Train Epoch: 3 [48000/60000]\tLoss: 0.029104\n",
            "Train Epoch: 3 [48640/60000]\tLoss: 0.082241\n",
            "Train Epoch: 3 [49280/60000]\tLoss: 0.069546\n",
            "Train Epoch: 3 [49920/60000]\tLoss: 0.172144\n",
            "Train Epoch: 3 [50560/60000]\tLoss: 0.202806\n",
            "Train Epoch: 3 [51200/60000]\tLoss: 0.132958\n",
            "Train Epoch: 3 [51840/60000]\tLoss: 0.126312\n",
            "Train Epoch: 3 [52480/60000]\tLoss: 0.225487\n",
            "Train Epoch: 3 [53120/60000]\tLoss: 0.127494\n",
            "Train Epoch: 3 [53760/60000]\tLoss: 0.141624\n",
            "Train Epoch: 3 [54400/60000]\tLoss: 0.083440\n",
            "Train Epoch: 3 [55040/60000]\tLoss: 0.169529\n",
            "Train Epoch: 3 [55680/60000]\tLoss: 0.193821\n",
            "Train Epoch: 3 [56320/60000]\tLoss: 0.150687\n",
            "Train Epoch: 3 [56960/60000]\tLoss: 0.187048\n",
            "Train Epoch: 3 [57600/60000]\tLoss: 0.209768\n",
            "Train Epoch: 3 [58240/60000]\tLoss: 0.178130\n",
            "Train Epoch: 3 [58880/60000]\tLoss: 0.019854\n",
            "Train Epoch: 3 [59520/60000]\tLoss: 0.048836\n",
            "\n",
            "Test set: Avg. loss: 0.0639, Accuracy: 9791/10000 (98%)\n",
            "\n"
          ]
        }
      ]
    },
    {
      "cell_type": "code",
      "source": [
        "# Run network on data we got before and show predictions\n",
        "output = model(example_data)\n",
        "\n",
        "fig = plt.figure()\n",
        "for i in range(10):\n",
        "  plt.subplot(5,5,i+1)\n",
        "  plt.tight_layout()\n",
        "  plt.imshow(example_data[i][0], cmap='gray', interpolation='none')\n",
        "  plt.title(\"Prediction: {}\".format(\n",
        "    output.data.max(1, keepdim=True)[1][i].item()))\n",
        "  plt.xticks([])\n",
        "  plt.yticks([])\n",
        "plt.show()"
      ],
      "metadata": {
        "id": "o7fRUAy9Se1B",
        "colab": {
          "base_uri": "https://localhost:8080/",
          "height": 207
        },
        "outputId": "e1c0fa89-d3b7-4af4-d7c1-b1ba6172b4c7"
      },
      "execution_count": 27,
      "outputs": [
        {
          "output_type": "display_data",
          "data": {
            "text/plain": [
              "<Figure size 640x480 with 10 Axes>"
            ],
            "image/png": "[encoded data removed]"
          },
          "metadata": {}
        }
      ]
    }
  ]
}