{
  "nbformat": 4,
  "nbformat_minor": 0,
  "metadata": {
    "colab": {
      "provenance": []
    },
    "kernelspec": {
      "name": "python3",
      "display_name": "Python 3"
    },
    "language_info": {
      "name": "python"
    }
  },
  "cells": [
    {
      "cell_type": "markdown",
      "metadata": {
        "id": "view-in-github"
      },
      "source": [
        "<a href=\"https://colab.research.google.com/github/udlbook/udlbook/blob/main/Notebooks/Chap10/10_2_Convolution_for_MNIST_1D.ipynb\" target=\"_parent\"><img src=\"https://colab.research.google.com/assets/colab-badge.svg\" alt=\"Open In Colab\"/></a>"
      ]
    },
    {
      "cell_type": "markdown",
      "source": [
        "# **Notebook 10.2: Convolution for MNIST-1D**\n",
        "\n",
        "This notebook investigates a 1D convolutional network for MNIST-1D as in figure 10.7 and 10.8a.\n",
        "\n",
        "Work through the cells below, running each cell in turn. In various places you will see the words \"TO DO\". Follow the instructions at these places and make predictions about what is going to happen or write code to complete the functions.\n",
        "\n",
        "Contact me at udlbookmail@gmail.com if you find any mistakes or have any suggestions.\n",
        "\n"
      ],
      "metadata": {
        "id": "t9vk9Elugvmi"
      }
    },
    {
      "cell_type": "code",
      "source": [
        "# Run this if you're in a Colab to install MNIST 1D repository\n",
        "!pip install git+https://github.com/greydanus/mnist1d"
      ],
      "metadata": {
        "id": "D5yLObtZCi9J",
        "colab": {
          "base_uri": "https://localhost:8080/"
        },
        "outputId": "c2f40505-174f-4aa4-d995-4b39feba13af"
      },
      "execution_count": 1,
      "outputs": [
        {
          "output_type": "stream",
          "name": "stdout",
          "text": [
            "Collecting git+https://github.com/greydanus/mnist1d\n",
            "  Cloning https://github.com/greydanus/mnist1d to /tmp/pip-req-build-hiopbrvv\n",
            "  Running command git clone --filter=blob:none --quiet https://github.com/greydanus/mnist1d /tmp/pip-req-build-hiopbrvv\n",
            "  Resolved https://github.com/greydanus/mnist1d to commit 350929d12f4c9a4b7355e0c96604e41b9239bdb4\n",
            "  Installing build dependencies ... \u001b[?25l\u001b[?25hdone\n",
            "  Getting requirements to build wheel ... \u001b[?25l\u001b[?25hdone\n",
            "  Preparing metadata (pyproject.toml) ... \u001b[?25l\u001b[?25hdone\n",
            "Requirement already satisfied: requests in /usr/local/lib/python3.10/dist-packages (from mnist1d==0.0.2.post9) (2.31.0)\n",
            "Requirement already satisfied: numpy in /usr/local/lib/python3.10/dist-packages (from mnist1d==0.0.2.post9) (1.25.2)\n",
            "Requirement already satisfied: matplotlib in /usr/local/lib/python3.10/dist-packages (from mnist1d==0.0.2.post9) (3.7.1)\n",
            "Requirement already satisfied: scipy in /usr/local/lib/python3.10/dist-packages (from mnist1d==0.0.2.post9) (1.11.4)\n",
            "Requirement already satisfied: contourpy>=1.0.1 in /usr/local/lib/python3.10/dist-packages (from matplotlib->mnist1d==0.0.2.post9) (1.2.1)\n",
            "Requirement already satisfied: cycler>=0.10 in /usr/local/lib/python3.10/dist-packages (from matplotlib->mnist1d==0.0.2.post9) (0.12.1)\n",
            "Requirement already satisfied: fonttools>=4.22.0 in /usr/local/lib/python3.10/dist-packages (from matplotlib->mnist1d==0.0.2.post9) (4.53.0)\n",
            "Requirement already satisfied: kiwisolver>=1.0.1 in /usr/local/lib/python3.10/dist-packages (from matplotlib->mnist1d==0.0.2.post9) (1.4.5)\n",
            "Requirement already satisfied: packaging>=20.0 in /usr/local/lib/python3.10/dist-packages (from matplotlib->mnist1d==0.0.2.post9) (24.1)\n",
            "Requirement already satisfied: pillow>=6.2.0 in /usr/local/lib/python3.10/dist-packages (from matplotlib->mnist1d==0.0.2.post9) (9.4.0)\n",
            "Requirement already satisfied: pyparsing>=2.3.1 in /usr/local/lib/python3.10/dist-packages (from matplotlib->mnist1d==0.0.2.post9) (3.1.2)\n",
            "Requirement already satisfied: python-dateutil>=2.7 in /usr/local/lib/python3.10/dist-packages (from matplotlib->mnist1d==0.0.2.post9) (2.8.2)\n",
            "Requirement already satisfied: charset-normalizer<4,>=2 in /usr/local/lib/python3.10/dist-packages (from requests->mnist1d==0.0.2.post9) (3.3.2)\n",
            "Requirement already satisfied: idna<4,>=2.5 in /usr/local/lib/python3.10/dist-packages (from requests->mnist1d==0.0.2.post9) (3.7)\n",
            "Requirement already satisfied: urllib3<3,>=1.21.1 in /usr/local/lib/python3.10/dist-packages (from requests->mnist1d==0.0.2.post9) (2.0.7)\n",
            "Requirement already satisfied: certifi>=2017.4.17 in /usr/local/lib/python3.10/dist-packages (from requests->mnist1d==0.0.2.post9) (2024.6.2)\n",
            "Requirement already satisfied: six>=1.5 in /usr/local/lib/python3.10/dist-packages (from python-dateutil>=2.7->matplotlib->mnist1d==0.0.2.post9) (1.16.0)\n",
            "Building wheels for collected packages: mnist1d\n",
            "  Building wheel for mnist1d (pyproject.toml) ... \u001b[?25l\u001b[?25hdone\n",
            "  Created wheel for mnist1d: filename=mnist1d-0.0.2.post9-py3-none-any.whl size=14496 sha256=f356e9e46c9525d25434bf9d60fc5849e6cf0ee9076f013c2f16f8efca5c97ee\n",
            "  Stored in directory: /tmp/pip-ephem-wheel-cache-zd59jdke/wheels/41/95/55/45fcf7d38cfa97e35682da6c5017d4513729131326ce935371\n",
            "Successfully built mnist1d\n",
            "Installing collected packages: mnist1d\n",
            "Successfully installed mnist1d-0.0.2.post9\n"
          ]
        }
      ]
    },
    {
      "cell_type": "code",
      "source": [
        "import numpy as np\n",
        "import os\n",
        "import torch, torch.nn as nn\n",
        "from torch.utils.data import TensorDataset, DataLoader\n",
        "from torch.optim.lr_scheduler import StepLR\n",
        "import matplotlib.pyplot as plt\n",
        "import mnist1d\n",
        "import random"
      ],
      "metadata": {
        "id": "YrXWAH7sUWvU"
      },
      "execution_count": 2,
      "outputs": []
    },
    {
      "cell_type": "code",
      "source": [
        "args = mnist1d.data.get_dataset_args()\n",
        "data = mnist1d.data.get_dataset(args, path='./mnist1d_data.pkl', download=False, regenerate=False)\n",
        "\n",
        "# The training and test input and outputs are in\n",
        "# data['x'], data['y'], data['x_test'], and data['y_test']\n",
        "print(\"Examples in training set: {}\".format(len(data['y'])))\n",
        "print(\"Examples in test set: {}\".format(len(data['y_test'])))\n",
        "print(\"Length of each example: {}\".format(data['x'].shape[-1]))"
      ],
      "metadata": {
        "id": "twI72ZCrCt5z",
        "colab": {
          "base_uri": "https://localhost:8080/"
        },
        "outputId": "8a7ba7f9-b352-4b4b-f36a-e122ddc78cf5"
      },
      "execution_count": 3,
      "outputs": [
        {
          "output_type": "stream",
          "name": "stdout",
          "text": [
            "Did or could not load data from ./mnist1d_data.pkl. Rebuilding dataset...\n",
            "Examples in training set: 4000\n",
            "Examples in test set: 1000\n",
            "Length of each example: 40\n"
          ]
        }
      ]
    },
    {
      "cell_type": "code",
      "source": [
        "# Load in the data\n",
        "train_data_x = data['x'].transpose()\n",
        "train_data_y = data['y']\n",
        "val_data_x = data['x_test'].transpose()\n",
        "val_data_y = data['y_test']\n",
        "# Print out sizes\n",
        "print(\"Train data: %d examples (columns), each of which has %d dimensions (rows)\"%((train_data_x.shape[1],train_data_x.shape[0])))\n",
        "print(\"Validation data: %d examples (columns), each of which has %d dimensions (rows)\"%((val_data_x.shape[1],val_data_x.shape[0])))"
      ],
      "metadata": {
        "id": "8bKADvLHbiV5",
        "colab": {
          "base_uri": "https://localhost:8080/"
        },
        "outputId": "ecc71a32-bc03-4150-db91-e83f5110ea6f"
      },
      "execution_count": 4,
      "outputs": [
        {
          "output_type": "stream",
          "name": "stdout",
          "text": [
            "Train data: 4000 examples (columns), each of which has 40 dimensions (rows)\n",
            "Validation data: 1000 examples (columns), each of which has 40 dimensions (rows)\n"
          ]
        }
      ]
    },
    {
      "cell_type": "markdown",
      "source": [
        "Define the network"
      ],
      "metadata": {
        "id": "_sFvRDGrl4qe"
      }
    },
    {
      "cell_type": "code",
      "source": [
        "# There are 40 input dimensions and 10 output dimensions for this data\n",
        "# The inputs correspond to the 40 offsets in the MNIST1D template.\n",
        "D_i = 40\n",
        "# The outputs correspond to the 10 digits\n",
        "D_o = 10\n",
        "\n",
        "\n",
        "# TODO Create a model with the following layers\n",
        "# 1. Convolutional layer, (input=length 40 and 1 channel, kernel size 3, stride 2, padding=\"valid\", 15 output channels )\n",
        "# 2. ReLU\n",
        "# 3. Convolutional layer, (input=length 19 and 15 channels, kernel size 3, stride 2, padding=\"valid\", 15 output channels )\n",
        "# 4. ReLU\n",
        "# 5. Convolutional layer, (input=length 9 and 15 channels, kernel size 3, stride 2, padding=\"valid\", 15 output channels)\n",
        "# 6. ReLU\n",
        "# 7. Flatten (converts 4x15) to length 60\n",
        "# 8. Linear layer (input size = 60, output size = 10)\n",
        "# References:\n",
        "# https://pytorch.org/docs/1.13/generated/torch.nn.Conv1d.html?highlight=conv1d#torch.nn.Conv1d\n",
        "# https://pytorch.org/docs/stable/generated/torch.nn.Flatten.html\n",
        "# https://pytorch.org/docs/1.13/generated/torch.nn.Linear.html?highlight=linear#torch.nn.Linear\n",
        "\n",
        "# NOTE THAT THE CONVOLUTIONAL LAYERS NEED TO TAKE THE NUMBER OF INPUT CHANNELS AS A PARAMETER\n",
        "# AND NOT THE INPUT SIZE.\n",
        "\n",
        "# Replace the following function:\n",
        "model = nn.Sequential(\n",
        "nn.Flatten(),\n",
        "nn.Linear(40, 100),\n",
        "nn.ReLU(),\n",
        "nn.Linear(100, 100),\n",
        "nn.ReLU(),\n",
        "nn.Linear(100, 10))\n",
        "\n",
        "\n",
        "# Model defining with convolutional layers\n",
        "model = nn.Sequential(\n",
        "    # Convolutional layer 1\n",
        "    nn.Conv1d(in_channels=1, out_channels=15, kernel_size=3, stride=2, padding=0),\n",
        "    nn.ReLU(),\n",
        "    # Convolutional layer 2\n",
        "    nn.Conv1d(in_channels=15, out_channels=15, kernel_size=3, stride=2, padding=0),\n",
        "    nn.ReLU(),\n",
        "    # Convolutional layer 3\n",
        "    nn.Conv1d(in_channels=15, out_channels=15, kernel_size=3, stride=2, padding=0),\n",
        "    nn.ReLU(),\n",
        "    # Flatten layer\n",
        "    nn.Flatten(),\n",
        "    # Linear layer\n",
        "    nn.Linear(60, 10)  # Input size 60 (4 x 15 from Conv layers), output size 10 (number of classes)\n",
        ")\n",
        "\n",
        "# Print the model architecture\n",
        "print(model)\n"
      ],
      "metadata": {
        "id": "FslroPJJffrh",
        "colab": {
          "base_uri": "https://localhost:8080/"
        },
        "outputId": "b3ab59fc-6887-40d3-dd08-ed261d85543c"
      },
      "execution_count": 5,
      "outputs": [
        {
          "output_type": "stream",
          "name": "stdout",
          "text": [
            "Sequential(\n",
            "  (0): Conv1d(1, 15, kernel_size=(3,), stride=(2,))\n",
            "  (1): ReLU()\n",
            "  (2): Conv1d(15, 15, kernel_size=(3,), stride=(2,))\n",
            "  (3): ReLU()\n",
            "  (4): Conv1d(15, 15, kernel_size=(3,), stride=(2,))\n",
            "  (5): ReLU()\n",
            "  (6): Flatten(start_dim=1, end_dim=-1)\n",
            "  (7): Linear(in_features=60, out_features=10, bias=True)\n",
            ")\n"
          ]
        }
      ]
    },
    {
      "cell_type": "code",
      "source": [
        "# He initialization of weights\n",
        "def weights_init(layer_in):\n",
        "  if isinstance(layer_in, nn.Linear):\n",
        "    nn.init.kaiming_uniform_(layer_in.weight)\n",
        "    layer_in.bias.data.fill_(0.0)"
      ],
      "metadata": {
        "id": "YgLaex1pfhqz"
      },
      "execution_count": 6,
      "outputs": []
    },
    {
      "cell_type": "code",
      "source": [
        "# choose cross entropy loss function (equation 5.24 in the loss notes)\n",
        "loss_function = nn.CrossEntropyLoss()\n",
        "# construct SGD optimizer and initialize learning rate and momentum\n",
        "optimizer = torch.optim.SGD(model.parameters(), lr = 0.05, momentum=0.9)\n",
        "# object that decreases learning rate by half every 20 epochs\n",
        "scheduler = StepLR(optimizer, step_size=20, gamma=0.5)\n",
        "# create 100 dummy data points and store in data loader class\n",
        "x_train = torch.tensor(train_data_x.transpose().astype('float32'))\n",
        "y_train = torch.tensor(train_data_y.astype('long')).long()\n",
        "x_val= torch.tensor(val_data_x.transpose().astype('float32'))\n",
        "y_val = torch.tensor(val_data_y.astype('long')).long()\n",
        "\n",
        "# load the data into a class that creates the batches\n",
        "data_loader = DataLoader(TensorDataset(x_train,y_train), batch_size=100, shuffle=True, worker_init_fn=np.random.seed(1))\n",
        "\n",
        "# Initialize model weights\n",
        "model.apply(weights_init)\n",
        "\n",
        "# loop over the dataset n_epoch times\n",
        "n_epoch = 100\n",
        "# store the loss and the % correct at each epoch\n",
        "losses_train = np.zeros((n_epoch))\n",
        "errors_train = np.zeros((n_epoch))\n",
        "losses_val = np.zeros((n_epoch))\n",
        "errors_val = np.zeros((n_epoch))\n",
        "\n",
        "for epoch in range(n_epoch):\n",
        "  # loop over batches\n",
        "  for i, data in enumerate(data_loader):\n",
        "    # retrieve inputs and labels for this batch\n",
        "    x_batch, y_batch = data\n",
        "    # zero the parameter gradients\n",
        "    optimizer.zero_grad()\n",
        "    # forward pass -- calculate model output\n",
        "    pred = model(x_batch[:,None,:])\n",
        "    # compute the loss\n",
        "    loss = loss_function(pred, y_batch)\n",
        "    # backward pass\n",
        "    loss.backward()\n",
        "    # SGD update\n",
        "    optimizer.step()\n",
        "\n",
        "  # Run whole dataset to get statistics -- normally wouldn't do this\n",
        "  pred_train = model(x_train[:,None,:])\n",
        "  pred_val = model(x_val[:,None,:])\n",
        "  _, predicted_train_class = torch.max(pred_train.data, 1)\n",
        "  _, predicted_val_class = torch.max(pred_val.data, 1)\n",
        "  errors_train[epoch] = 100 - 100 * (predicted_train_class == y_train).float().sum() / len(y_train)\n",
        "  errors_val[epoch]= 100 - 100 * (predicted_val_class == y_val).float().sum() / len(y_val)\n",
        "  losses_train[epoch] = loss_function(pred_train, y_train).item()\n",
        "  losses_val[epoch]= loss_function(pred_val, y_val).item()\n",
        "  print(f'Epoch {epoch:5d}, train loss {losses_train[epoch]:.6f}, train error {errors_train[epoch]:3.2f},  val loss {losses_val[epoch]:.6f}, percent error {errors_val[epoch]:3.2f}')\n",
        "\n",
        "  # tell scheduler to consider updating learning rate\n",
        "  scheduler.step()\n",
        "\n",
        "# Plot the results\n",
        "fig, ax = plt.subplots()\n",
        "ax.plot(errors_train,'r-',label='train')\n",
        "ax.plot(errors_val,'b-',label='validation')\n",
        "ax.set_ylim(0,100); ax.set_xlim(0,n_epoch)\n",
        "ax.set_xlabel('Epoch'); ax.set_ylabel('Error')\n",
        "ax.set_title('Part I: Validation Result %3.2f'%(errors_val[-1]))\n",
        "ax.legend()\n",
        "plt.show()"
      ],
      "metadata": {
        "id": "NYw8I_3mmX5c",
        "colab": {
          "base_uri": "https://localhost:8080/",
          "height": 1000
        },
        "outputId": "dff8f01a-8500-4f69-bbae-70cc8e51eb41"
      },
      "execution_count": 7,
      "outputs": [
        {
          "output_type": "stream",
          "name": "stdout",
          "text": [
            "Epoch     0, train loss 2.079023, train error 80.12,  val loss 2.081635, percent error 79.00\n",
            "Epoch     1, train loss 1.924736, train error 71.25,  val loss 1.936959, percent error 71.20\n",
            "Epoch     2, train loss 1.418417, train error 57.20,  val loss 1.427215, percent error 59.10\n",
            "Epoch     3, train loss 1.312959, train error 53.40,  val loss 1.308571, percent error 54.90\n",
            "Epoch     4, train loss 1.281634, train error 51.47,  val loss 1.299606, percent error 54.20\n",
            "Epoch     5, train loss 1.176342, train error 47.58,  val loss 1.196510, percent error 49.90\n",
            "Epoch     6, train loss 1.107852, train error 44.53,  val loss 1.143865, percent error 46.30\n",
            "Epoch     7, train loss 1.039126, train error 41.75,  val loss 1.055081, percent error 43.10\n",
            "Epoch     8, train loss 0.990176, train error 38.00,  val loss 1.023155, percent error 41.00\n",
            "Epoch     9, train loss 0.975780, train error 38.83,  val loss 1.002445, percent error 40.30\n",
            "Epoch    10, train loss 0.820572, train error 31.28,  val loss 0.884133, percent error 34.10\n",
            "Epoch    11, train loss 0.741113, train error 28.70,  val loss 0.807239, percent error 32.00\n",
            "Epoch    12, train loss 0.729407, train error 28.28,  val loss 0.789453, percent error 31.40\n",
            "Epoch    13, train loss 0.567621, train error 21.43,  val loss 0.653201, percent error 25.50\n",
            "Epoch    14, train loss 0.560645, train error 21.10,  val loss 0.630760, percent error 23.60\n",
            "Epoch    15, train loss 0.494737, train error 17.38,  val loss 0.592987, percent error 19.80\n",
            "Epoch    16, train loss 0.420161, train error 15.57,  val loss 0.551935, percent error 20.60\n",
            "Epoch    17, train loss 0.483631, train error 18.35,  val loss 0.626989, percent error 22.20\n",
            "Epoch    18, train loss 0.409048, train error 14.95,  val loss 0.562253, percent error 18.20\n",
            "Epoch    19, train loss 0.318482, train error 12.10,  val loss 0.452748, percent error 15.30\n",
            "Epoch    20, train loss 0.228450, train error 8.00,  val loss 0.389335, percent error 12.40\n",
            "Epoch    21, train loss 0.200723, train error 6.85,  val loss 0.348258, percent error 11.40\n",
            "Epoch    22, train loss 0.180945, train error 6.03,  val loss 0.334162, percent error 11.00\n",
            "Epoch    23, train loss 0.182661, train error 6.60,  val loss 0.358976, percent error 12.20\n",
            "Epoch    24, train loss 0.157546, train error 5.12,  val loss 0.327009, percent error 10.70\n",
            "Epoch    25, train loss 0.144592, train error 4.70,  val loss 0.322149, percent error 10.50\n",
            "Epoch    26, train loss 0.147647, train error 4.85,  val loss 0.333026, percent error 10.40\n",
            "Epoch    27, train loss 0.175628, train error 6.45,  val loss 0.369671, percent error 12.50\n",
            "Epoch    28, train loss 0.131545, train error 4.40,  val loss 0.298889, percent error 9.30\n",
            "Epoch    29, train loss 0.125840, train error 4.38,  val loss 0.326939, percent error 10.90\n",
            "Epoch    30, train loss 0.124550, train error 4.12,  val loss 0.325755, percent error 9.80\n",
            "Epoch    31, train loss 0.123015, train error 4.05,  val loss 0.324540, percent error 9.80\n",
            "Epoch    32, train loss 0.135113, train error 4.53,  val loss 0.343674, percent error 10.10\n",
            "Epoch    33, train loss 0.110569, train error 3.75,  val loss 0.328167, percent error 10.50\n",
            "Epoch    34, train loss 0.102447, train error 3.35,  val loss 0.322558, percent error 10.30\n",
            "Epoch    35, train loss 0.097951, train error 3.32,  val loss 0.295812, percent error 9.50\n",
            "Epoch    36, train loss 0.095894, train error 3.22,  val loss 0.307840, percent error 10.00\n",
            "Epoch    37, train loss 0.080854, train error 2.78,  val loss 0.306566, percent error 9.50\n",
            "Epoch    38, train loss 0.094956, train error 3.15,  val loss 0.341571, percent error 10.10\n",
            "Epoch    39, train loss 0.100354, train error 3.53,  val loss 0.346936, percent error 10.20\n",
            "Epoch    40, train loss 0.071485, train error 2.50,  val loss 0.330395, percent error 9.60\n",
            "Epoch    41, train loss 0.059151, train error 1.75,  val loss 0.323196, percent error 10.10\n",
            "Epoch    42, train loss 0.060112, train error 1.80,  val loss 0.323732, percent error 9.10\n",
            "Epoch    43, train loss 0.058288, train error 1.60,  val loss 0.324581, percent error 9.60\n",
            "Epoch    44, train loss 0.051053, train error 1.45,  val loss 0.331581, percent error 9.50\n",
            "Epoch    45, train loss 0.053464, train error 1.35,  val loss 0.325488, percent error 9.20\n",
            "Epoch    46, train loss 0.053842, train error 1.53,  val loss 0.326130, percent error 9.10\n",
            "Epoch    47, train loss 0.056472, train error 1.55,  val loss 0.338157, percent error 9.40\n",
            "Epoch    48, train loss 0.047783, train error 1.10,  val loss 0.327708, percent error 9.80\n",
            "Epoch    49, train loss 0.046729, train error 1.25,  val loss 0.327800, percent error 9.40\n",
            "Epoch    50, train loss 0.043300, train error 0.97,  val loss 0.338079, percent error 9.40\n",
            "Epoch    51, train loss 0.044596, train error 1.05,  val loss 0.341080, percent error 9.90\n",
            "Epoch    52, train loss 0.052439, train error 1.40,  val loss 0.352933, percent error 9.20\n",
            "Epoch    53, train loss 0.049581, train error 1.50,  val loss 0.363859, percent error 9.90\n",
            "Epoch    54, train loss 0.044176, train error 1.12,  val loss 0.366348, percent error 9.70\n",
            "Epoch    55, train loss 0.040694, train error 0.95,  val loss 0.361366, percent error 9.50\n",
            "Epoch    56, train loss 0.039091, train error 0.88,  val loss 0.341886, percent error 9.30\n",
            "Epoch    57, train loss 0.038304, train error 0.85,  val loss 0.359154, percent error 9.40\n",
            "Epoch    58, train loss 0.038282, train error 0.78,  val loss 0.355231, percent error 8.40\n",
            "Epoch    59, train loss 0.037450, train error 0.88,  val loss 0.371324, percent error 9.80\n",
            "Epoch    60, train loss 0.034143, train error 0.72,  val loss 0.364777, percent error 9.60\n",
            "Epoch    61, train loss 0.034934, train error 0.65,  val loss 0.363852, percent error 8.90\n",
            "Epoch    62, train loss 0.031881, train error 0.60,  val loss 0.367895, percent error 9.80\n",
            "Epoch    63, train loss 0.031240, train error 0.55,  val loss 0.368977, percent error 9.40\n",
            "Epoch    64, train loss 0.030591, train error 0.43,  val loss 0.374650, percent error 9.80\n",
            "Epoch    65, train loss 0.030342, train error 0.50,  val loss 0.368757, percent error 9.50\n",
            "Epoch    66, train loss 0.030033, train error 0.47,  val loss 0.372771, percent error 9.70\n",
            "Epoch    67, train loss 0.029193, train error 0.45,  val loss 0.376883, percent error 9.50\n",
            "Epoch    68, train loss 0.029365, train error 0.43,  val loss 0.374950, percent error 9.80\n",
            "Epoch    69, train loss 0.030133, train error 0.50,  val loss 0.383837, percent error 9.70\n",
            "Epoch    70, train loss 0.029781, train error 0.45,  val loss 0.379760, percent error 9.50\n",
            "Epoch    71, train loss 0.029712, train error 0.55,  val loss 0.384528, percent error 9.70\n",
            "Epoch    72, train loss 0.027867, train error 0.43,  val loss 0.379797, percent error 9.60\n",
            "Epoch    73, train loss 0.028125, train error 0.40,  val loss 0.382349, percent error 9.70\n",
            "Epoch    74, train loss 0.026727, train error 0.43,  val loss 0.384819, percent error 9.50\n",
            "Epoch    75, train loss 0.026628, train error 0.40,  val loss 0.386969, percent error 9.60\n",
            "Epoch    76, train loss 0.026303, train error 0.43,  val loss 0.387398, percent error 9.70\n",
            "Epoch    77, train loss 0.026037, train error 0.30,  val loss 0.391074, percent error 9.60\n",
            "Epoch    78, train loss 0.027027, train error 0.35,  val loss 0.388215, percent error 9.60\n",
            "Epoch    79, train loss 0.025144, train error 0.35,  val loss 0.391908, percent error 9.90\n",
            "Epoch    80, train loss 0.024708, train error 0.30,  val loss 0.395160, percent error 9.50\n",
            "Epoch    81, train loss 0.025003, train error 0.35,  val loss 0.392951, percent error 9.50\n",
            "Epoch    82, train loss 0.024333, train error 0.28,  val loss 0.396583, percent error 9.60\n",
            "Epoch    83, train loss 0.025751, train error 0.32,  val loss 0.400695, percent error 10.00\n",
            "Epoch    84, train loss 0.024786, train error 0.32,  val loss 0.399456, percent error 9.90\n",
            "Epoch    85, train loss 0.024004, train error 0.30,  val loss 0.399095, percent error 9.70\n",
            "Epoch    86, train loss 0.023986, train error 0.30,  val loss 0.399349, percent error 9.70\n",
            "Epoch    87, train loss 0.025387, train error 0.35,  val loss 0.403229, percent error 9.30\n",
            "Epoch    88, train loss 0.023691, train error 0.30,  val loss 0.401570, percent error 9.70\n",
            "Epoch    89, train loss 0.023968, train error 0.30,  val loss 0.402430, percent error 9.50\n",
            "Epoch    90, train loss 0.023267, train error 0.28,  val loss 0.402504, percent error 9.50\n",
            "Epoch    91, train loss 0.023132, train error 0.28,  val loss 0.403682, percent error 9.70\n",
            "Epoch    92, train loss 0.023156, train error 0.22,  val loss 0.404701, percent error 9.70\n",
            "Epoch    93, train loss 0.023005, train error 0.28,  val loss 0.405749, percent error 9.80\n",
            "Epoch    94, train loss 0.022758, train error 0.28,  val loss 0.404094, percent error 9.70\n",
            "Epoch    95, train loss 0.022710, train error 0.22,  val loss 0.404626, percent error 9.80\n",
            "Epoch    96, train loss 0.022623, train error 0.28,  val loss 0.403824, percent error 9.40\n",
            "Epoch    97, train loss 0.022669, train error 0.25,  val loss 0.407516, percent error 9.70\n",
            "Epoch    98, train loss 0.022724, train error 0.25,  val loss 0.407099, percent error 9.40\n",
            "Epoch    99, train loss 0.023012, train error 0.28,  val loss 0.410410, percent error 9.70\n"
          ]
        },
        {
          "output_type": "display_data",
          "data": {
            "text/plain": [
              "<Figure size 640x480 with 1 Axes>"
            ],
            "image/png": "[encoded data removed]"
          },
          "metadata": {}
        }
      ]
    }
  ]
}